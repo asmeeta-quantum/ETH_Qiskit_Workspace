{
 "cells": [
  {
   "cell_type": "markdown",
   "id": "7b837d15",
   "metadata": {},
   "source": [
    "# =========================================================\n",
    "# ETH Zurich – qBraid + Qiskit Environment Setup\n",
    "# =========================================================\n",
    "# This notebook was developed using qBraid and Qiskit to demonstrate\n",
    "# foundational and applied quantum computing skills, including:\n",
    "# - Bell state generation (ideal and noisy)\n",
    "# - Grover's algorithm (2-qubit)\n",
    "# - Deutsch–Jozsa algorithm (n=3)\n",
    "# - Superconducting qubit noise simulations (T1, T2, depolarizing)\n",
    "#\n",
    "# Environment recreation (qBraid):\n",
    "#     qbraid env create -f qbraid.yaml\n",
    "#     qbraid env activate qiskit-superconducting-suite\n",
    "#\n",
    "# Dependencies:\n",
    "#   Python 3.10\n",
    "#   Qiskit 1.0.2 + Aer, IBMQ Provider, Experiments, Dynamics\n",
    "#   matplotlib 3.8.2\n",
    "#   numpy 1.26.4\n",
    "#   pandas, seaborn, scipy, pytest\n",
    "#\n",
    "# Full qbraid.yaml available at:\n",
    "#   https://github.com/<your-username>/<your-repo>/blob/main/qbraid.yaml\n",
    "#\n",
    "# This notebook is self-contained with inline plots for ETH Zurich reviewers.\n",
    "# =========================================================\n"
   ]
  },
  {
   "cell_type": "markdown",
   "id": "e5a5f1f8",
   "metadata": {},
   "source": [
    "# Quantum Circuit Simulations for ETH Zurich PhD Proposal\n",
    "**Author:** Asmeeta Prakash Sayaji\n",
    "\n",
    "This notebook consolidates all verified Qiskit Aer simulations prepared for the ETH Zurich PhD application on *Quantum Computing with Superconducting Circuits*. All examples are designed to run on qBraid's free tier using **Qiskit 2.0.2** with the `qiskit-aer[cpu]` package.\n",
    "\n",
    "---\n",
    "**Contents:**\n",
    "1. Environment Setup for qBraid\n",
    "2. Bell State with Measurement Sampling\n",
    "3. Ideal Statevector Simulation\n",
    "4. Noisy Bell State Simulation (Depolarizing Errors)\n",
    "5. Grover's Algorithm (2-qubit demo)\n",
    "6. Deutsch–Jozsa Algorithm (n=3)\n",
    "7. Superconducting Qubit Noise Simulation (T1, T2, depolarizing)\n",
    "---"
   ]
  },
  {
   "cell_type": "code",
   "execution_count": null,
   "id": "97b50fa6",
   "metadata": {},
   "outputs": [],
   "source": [
    "# Qiskit Aer environment setup (qBraid reproducibility)\n",
    "!pip uninstall -y qiskit-aer qiskit qiskit-terra\n",
    "!pip cache purge\n",
    "!pip install qiskit==2.0.2\n",
    "!pip install qiskit-aer[cpu]\n",
    "!pip list | grep qiskit"
   ]
  },
  {
   "cell_type": "markdown",
   "id": "8a87d801",
   "metadata": {},
   "source": [
    "## 1. Bell State with Measurement Sampling\n",
    "We create and simulate a Bell state using Qiskit Aer’s `qasm_simulator` to get measurement outcome probabilities."
   ]
  },
  {
   "cell_type": "code",
   "execution_count": null,
   "id": "ef7f1c4e",
   "metadata": {},
   "outputs": [],
   "source": [
    "from qiskit import QuantumCircuit, transpile\n",
    "from qiskit_aer import Aer\n",
    "\n",
    "qc = QuantumCircuit(2)\n",
    "qc.h(0)\n",
    "qc.cx(0, 1)\n",
    "qc.measure_all()\n",
    "\n",
    "backend = Aer.get_backend('qasm_simulator')\n",
    "result = backend.run(transpile(qc, backend), shots=4096).result()\n",
    "print('Bell counts:', result.get_counts())"
   ]
  },
  {
   "cell_type": "markdown",
   "id": "af72d483",
   "metadata": {},
   "source": [
    "## 2. Ideal Statevector Simulation\n",
    "Simulate the Bell state without measurements to retrieve the exact statevector."
   ]
  },
  {
   "cell_type": "code",
   "execution_count": null,
   "id": "95f8ff84",
   "metadata": {},
   "outputs": [],
   "source": [
    "import numpy as np\n",
    "\n",
    "qc = QuantumCircuit(2)\n",
    "qc.h(0)\n",
    "qc.cx(0, 1)\n",
    "\n",
    "sv_backend = Aer.get_backend('statevector_simulator')\n",
    "sv = np.array(sv_backend.run(qc).result().get_statevector(), dtype=complex)\n",
    "print('Statevector:', sv)\n",
    "print('Probability sum:', float(np.abs(sv)**2 .sum()))"
   ]
  },
  {
   "cell_type": "markdown",
   "id": "2fb68644",
   "metadata": {},
   "source": [
    "## 3. Noisy Bell State Simulation\n",
    "Add depolarizing noise to single- and two-qubit gates."
   ]
  },
  {
   "cell_type": "code",
   "execution_count": null,
   "id": "c5504eb0",
   "metadata": {},
   "outputs": [],
   "source": [
    "from qiskit_aer.noise import NoiseModel, depolarizing_error\n",
    "\n",
    "noise_model = NoiseModel()\n",
    "noise_model.add_all_qubit_quantum_error(depolarizing_error(0.01, 1), ['h'])\n",
    "noise_model.add_all_qubit_quantum_error(depolarizing_error(0.02, 2), ['cx'])\n",
    "\n",
    "qc = QuantumCircuit(2)\n",
    "qc.h(0)\n",
    "qc.cx(0, 1)\n",
    "qc.measure_all()\n",
    "\n",
    "result_noisy = backend.run(transpile(qc, backend), shots=8192, noise_model=noise_model).result()\n",
    "print('Noisy counts:', result_noisy.get_counts())"
   ]
  },
  {
   "cell_type": "markdown",
   "id": "3ff096a2",
   "metadata": {},
   "source": [
    "## 4. Grover's Algorithm (2-qubit)\n",
    "Search for the marked state |11>."
   ]
  },
  {
   "cell_type": "code",
   "execution_count": null,
   "id": "187ae5bf",
   "metadata": {},
   "outputs": [],
   "source": [
    "def grover_oracle_11(n=2):\n",
    "    qc = QuantumCircuit(n)\n",
    "    qc.cz(0, 1)\n",
    "    return qc\n",
    "\n",
    "def diffuser(n=2):\n",
    "    qc = QuantumCircuit(n)\n",
    "    qc.h(range(n))\n",
    "    qc.x(range(n))\n",
    "    qc.h(n-1)\n",
    "    qc.cx(0, 1)\n",
    "    qc.h(n-1)\n",
    "    qc.x(range(n))\n",
    "    qc.h(range(n))\n",
    "    return qc\n",
    "\n",
    "grover_it = QuantumCircuit(2, 2)\n",
    "grover_it.h(range(2))\n",
    "grover_it.append(grover_oracle_11(2), range(2))\n",
    "grover_it.append(diffuser(2), range(2))\n",
    "grover_it.measure(range(2), range(2))\n",
    "\n",
    "res_ideal = backend.run(transpile(grover_it, backend), shots=4096).result()\n",
    "print('Grover ideal counts:', res_ideal.get_counts())"
   ]
  },
  {
   "cell_type": "markdown",
   "id": "96e266f3",
   "metadata": {},
   "source": [
    "## 5. Deutsch–Jozsa Algorithm (n=3)\n",
    "Detect constant vs balanced functions with one query."
   ]
  },
  {
   "cell_type": "code",
   "execution_count": null,
   "id": "b58e30b5",
   "metadata": {},
   "outputs": [],
   "source": [
    "def dj_constant_oracle(n=3, flips_output=False):\n",
    "    qc = QuantumCircuit(n+1)\n",
    "    if flips_output:\n",
    "        qc.x(n)\n",
    "    return qc\n",
    "\n",
    "def dj_balanced_oracle(n=3):\n",
    "    qc = QuantumCircuit(n+1)\n",
    "    qc.cx(0, n)\n",
    "    qc.cx(1, n)\n",
    "    return qc\n",
    "\n",
    "def deutsch_jozsa_run(oracle, n=3):\n",
    "    qc = QuantumCircuit(n+1, n)\n",
    "    qc.x(n)\n",
    "    qc.h(range(n+1))\n",
    "    qc.append(oracle, range(n+1))\n",
    "    qc.h(range(n))\n",
    "    qc.measure(range(n), range(n))\n",
    "    return qc\n",
    "\n",
    "oracle_c0 = dj_constant_oracle(3, flips_output=False).to_gate()\n",
    "qc_c0 = deutsch_jozsa_run(oracle_c0, 3)\n",
    "res_c0 = backend.run(transpile(qc_c0, backend), shots=2048).result()\n",
    "print('DJ constant-0:', res_c0.get_counts())"
   ]
  },
  {
   "cell_type": "markdown",
   "id": "934a049a",
   "metadata": {},
   "source": [
    "## 6. Superconducting Qubit Noise Simulation\n",
    "Thermal relaxation and depolarizing noise model."
   ]
  },
  {
   "cell_type": "code",
   "execution_count": null,
   "id": "be9de143",
   "metadata": {},
   "outputs": [],
   "source": [
    "from qiskit_aer import AerSimulator\n",
    "from qiskit_aer.noise import thermal_relaxation_error\n",
    "import matplotlib.pyplot as plt\n",
    "\n",
    "T1 = 100e-6\n",
    "T2 = 80e-6\n",
    "gate_time = 50e-9\n",
    "depol_prob = 0.02\n",
    "\n",
    "noise_model = NoiseModel()\n",
    "thermal_error = thermal_relaxation_error(T1, T2, gate_time)\n",
    "depol_error = depolarizing_error(depol_prob, 1)\n",
    "combined_error = thermal_error.compose(depol_error)\n",
    "noise_model.add_all_qubit_quantum_error(combined_error, ['x', 'h'])\n",
    "\n",
    "qc = QuantumCircuit(1, 1)\n",
    "qc.h(0)\n",
    "qc.measure(0, 0)\n",
    "\n",
    "sim = AerSimulator(noise_model=noise_model)\n",
    "res = sim.run(transpile(qc, sim), shots=1000).result().get_counts()\n",
    "print(res)\n",
    "plt.bar(res.keys(), res.values())\n",
    "plt.title('Superconducting Qubit Noise Simulation')\n",
    "plt.show()"
   ]
  },
  {
   "cell_type": "markdown",
   "id": "9773c48f",
   "metadata": {},
   "source": [
    "# 1. Environment check & imports"
   ]
  },
  {
   "cell_type": "markdown",
   "id": "09a7a2e2",
   "metadata": {},
   "source": [
    "# 2. Bell state with measurement sampling"
   ]
  },
  {
   "cell_type": "markdown",
   "id": "b05ca105",
   "metadata": {},
   "source": [
    "# 3. Ideal statevector simulation"
   ]
  },
  {
   "cell_type": "markdown",
   "id": "9cf0cc2c",
   "metadata": {},
   "source": [
    "# 4. Noisy Bell (depolarizing)"
   ]
  },
  {
   "cell_type": "markdown",
   "id": "39acb86f",
   "metadata": {},
   "source": [
    "# 5. Grover's algorithm (2-qubit)"
   ]
  },
  {
   "cell_type": "markdown",
   "id": "9ff8482a",
   "metadata": {},
   "source": [
    "# 6. Deutsch–Jozsa algorithm (n=3)"
   ]
  },
  {
   "cell_type": "markdown",
   "id": "63e2d5b2",
   "metadata": {},
   "source": [
    "# 7. Superconducting qubit noise (T1, T2, depolarizing)"
   ]
  },
  {
   "cell_type": "markdown",
   "id": "06f812a8",
   "metadata": {},
   "source": [
    "# 8. Summary & conclusions"
   ]
  }
 ],
 "metadata": {
  "kernelspec": {
   "display_name": "Python 3",
   "language": "python",
   "name": "python3"
  }
 },
 "nbformat": 4,
 "nbformat_minor": 5
}
