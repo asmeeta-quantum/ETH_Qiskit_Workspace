{
 "cells": [
  {
   "cell_type": "markdown",
   "id": "7b837d15",
   "metadata": {},
   "source": [
    "# =========================================================\n",
    "# ETH Zurich – qBraid + Qiskit Environment Setup\n",
    "# =========================================================\n",
    "# This notebook was developed using qBraid and Qiskit to demonstrate\n",
    "# foundational and applied quantum computing skills, including:\n",
    "# - Bell state generation (ideal and noisy)\n",
    "# - Grover's algorithm (2-qubit)\n",
    "# - Deutsch–Jozsa algorithm (n=3)\n",
    "# - Superconducting qubit noise simulations (T1, T2, depolarizing)\n",
    "#\n",
    "# Environment recreation (qBraid):\n",
    "#     qbraid env create -f qbraid.yaml\n",
    "#     qbraid env activate qiskit-superconducting-suite\n",
    "#\n",
    "# Dependencies:\n",
    "#   Python 3.10\n",
    "#   Qiskit 1.0.2 + Aer, IBMQ Provider, Experiments, Dynamics\n",
    "#   matplotlib 3.8.2\n",
    "#   numpy 1.26.4\n",
    "#   pandas, seaborn, scipy, pytest\n",
    "#\n",
    "# Full qbraid.yaml available at:\n",
    "#   https://github.com/asmeeta-quantum/ETH_Qiskit_Workspace/qbraid.yaml\n",
    "#\n",
    "# This notebook is self-contained with inline plots for ETH Zurich reviewers.\n",
    "# =========================================================\n"
   ]
  },
  {
   "cell_type": "markdown",
   "id": "e5a5f1f8",
   "metadata": {},
   "source": [
    "# Quantum Circuit Simulations for ETH Zurich PhD Proposal\n",
    "**Author:** Asmeeta Prakash Sayaji\n",
    "\n",
    "This notebook consolidates all verified Qiskit Aer simulations prepared for the ETH Zurich PhD application on *Quantum Computing with Superconducting Circuits*. All examples are designed to run on qBraid's free tier using **Qiskit 2.0.2** with the `qiskit-aer[cpu]` package.\n",
    "\n",
    "---\n",
    "**Contents:**\n",
    "1. Environment Setup for qBraid\n",
    "2. Bell State with Measurement Sampling\n",
    "3. Ideal Statevector Simulation\n",
    "4. Noisy Bell State Simulation (Depolarizing Errors)\n",
    "5. Grover's Algorithm (2-qubit demo)\n",
    "6. Deutsch–Jozsa Algorithm (n=3)\n",
    "7. Superconducting Qubit Noise Simulation (T1, T2, depolarizing)\n",
    "---"
   ]
  },
  {
   "cell_type": "code",
   "execution_count": 1,
   "id": "97b50fa6",
   "metadata": {},
   "outputs": [
    {
     "name": "stdout",
     "output_type": "stream",
     "text": [
      "Found existing installation: qiskit-aer 0.17.1\n",
      "Uninstalling qiskit-aer-0.17.1:\n",
      "  Successfully uninstalled qiskit-aer-0.17.1\n",
      "Found existing installation: qiskit 2.0.2\n",
      "Uninstalling qiskit-2.0.2:\n",
      "  Successfully uninstalled qiskit-2.0.2\n",
      "\u001b[33mWARNING: Skipping qiskit-terra as it is not installed.\u001b[0m\u001b[33m\n",
      "\u001b[0mFiles removed: 12 (19.1 MB)\n",
      "Collecting qiskit==2.0.2\n",
      "  Downloading qiskit-2.0.2-cp39-abi3-manylinux_2_17_x86_64.manylinux2014_x86_64.whl.metadata (12 kB)\n",
      "Requirement already satisfied: rustworkx>=0.15.0 in /opt/conda/lib/python3.11/site-packages (from qiskit==2.0.2) (0.17.1)\n",
      "Requirement already satisfied: numpy<3,>=1.17 in /opt/conda/lib/python3.11/site-packages (from qiskit==2.0.2) (2.3.2)\n",
      "Requirement already satisfied: scipy>=1.5 in /opt/conda/lib/python3.11/site-packages (from qiskit==2.0.2) (1.16.1)\n",
      "Requirement already satisfied: sympy>=1.3 in /opt/conda/lib/python3.11/site-packages (from qiskit==2.0.2) (1.14.0)\n",
      "Requirement already satisfied: dill>=0.3 in /opt/conda/lib/python3.11/site-packages (from qiskit==2.0.2) (0.4.0)\n",
      "Requirement already satisfied: python-dateutil>=2.8.0 in /opt/conda/lib/python3.11/site-packages (from qiskit==2.0.2) (2.9.0)\n",
      "Requirement already satisfied: stevedore>=3.0.0 in /opt/conda/lib/python3.11/site-packages (from qiskit==2.0.2) (5.4.1)\n",
      "Requirement already satisfied: typing-extensions in /opt/conda/lib/python3.11/site-packages (from qiskit==2.0.2) (4.14.0)\n",
      "Requirement already satisfied: symengine<0.14,>=0.11 in /opt/conda/lib/python3.11/site-packages (from qiskit==2.0.2) (0.13.0)\n",
      "Requirement already satisfied: six>=1.5 in /opt/conda/lib/python3.11/site-packages (from python-dateutil>=2.8.0->qiskit==2.0.2) (1.16.0)\n",
      "Requirement already satisfied: pbr>=2.0.0 in /opt/conda/lib/python3.11/site-packages (from stevedore>=3.0.0->qiskit==2.0.2) (7.0.0)\n",
      "Requirement already satisfied: setuptools in /opt/conda/lib/python3.11/site-packages (from pbr>=2.0.0->stevedore>=3.0.0->qiskit==2.0.2) (69.5.1)\n",
      "Requirement already satisfied: mpmath<1.4,>=1.1.0 in /opt/conda/lib/python3.11/site-packages (from sympy>=1.3->qiskit==2.0.2) (1.3.0)\n",
      "Downloading qiskit-2.0.2-cp39-abi3-manylinux_2_17_x86_64.manylinux2014_x86_64.whl (6.5 MB)\n",
      "\u001b[2K   \u001b[90m━━━━━━━━━━━━━━━━━━━━━━━━━━━━━━━━━━━━━━━━\u001b[0m \u001b[32m6.5/6.5 MB\u001b[0m \u001b[31m67.0 MB/s\u001b[0m eta \u001b[36m0:00:00\u001b[0m\n",
      "\u001b[?25hInstalling collected packages: qiskit\n",
      "Successfully installed qiskit-2.0.2\n",
      "\n",
      "\u001b[1m[\u001b[0m\u001b[34;49mnotice\u001b[0m\u001b[1;39;49m]\u001b[0m\u001b[39;49m A new release of pip is available: \u001b[0m\u001b[31;49m25.1.1\u001b[0m\u001b[39;49m -> \u001b[0m\u001b[32;49m25.2\u001b[0m\n",
      "\u001b[1m[\u001b[0m\u001b[34;49mnotice\u001b[0m\u001b[1;39;49m]\u001b[0m\u001b[39;49m To update, run: \u001b[0m\u001b[32;49mpip install --upgrade pip\u001b[0m\n",
      "Collecting qiskit-aer[cpu]\n",
      "  Downloading qiskit_aer-0.17.1-cp311-cp311-manylinux_2_17_x86_64.manylinux2014_x86_64.whl.metadata (8.3 kB)\n",
      "\u001b[33mWARNING: qiskit-aer 0.17.1 does not provide the extra 'cpu'\u001b[0m\u001b[33m\n",
      "\u001b[0mRequirement already satisfied: qiskit>=1.1.0 in /opt/conda/lib/python3.11/site-packages (from qiskit-aer[cpu]) (2.0.2)\n",
      "Requirement already satisfied: numpy>=1.16.3 in /opt/conda/lib/python3.11/site-packages (from qiskit-aer[cpu]) (2.3.2)\n",
      "Requirement already satisfied: scipy>=1.0 in /opt/conda/lib/python3.11/site-packages (from qiskit-aer[cpu]) (1.16.1)\n",
      "Requirement already satisfied: psutil>=5 in /opt/conda/lib/python3.11/site-packages (from qiskit-aer[cpu]) (5.9.8)\n",
      "Requirement already satisfied: python-dateutil>=2.8.0 in /opt/conda/lib/python3.11/site-packages (from qiskit-aer[cpu]) (2.9.0)\n",
      "Requirement already satisfied: six>=1.5 in /opt/conda/lib/python3.11/site-packages (from python-dateutil>=2.8.0->qiskit-aer[cpu]) (1.16.0)\n",
      "Requirement already satisfied: rustworkx>=0.15.0 in /opt/conda/lib/python3.11/site-packages (from qiskit>=1.1.0->qiskit-aer[cpu]) (0.17.1)\n",
      "Requirement already satisfied: sympy>=1.3 in /opt/conda/lib/python3.11/site-packages (from qiskit>=1.1.0->qiskit-aer[cpu]) (1.14.0)\n",
      "Requirement already satisfied: dill>=0.3 in /opt/conda/lib/python3.11/site-packages (from qiskit>=1.1.0->qiskit-aer[cpu]) (0.4.0)\n",
      "Requirement already satisfied: stevedore>=3.0.0 in /opt/conda/lib/python3.11/site-packages (from qiskit>=1.1.0->qiskit-aer[cpu]) (5.4.1)\n",
      "Requirement already satisfied: typing-extensions in /opt/conda/lib/python3.11/site-packages (from qiskit>=1.1.0->qiskit-aer[cpu]) (4.14.0)\n",
      "Requirement already satisfied: symengine<0.14,>=0.11 in /opt/conda/lib/python3.11/site-packages (from qiskit>=1.1.0->qiskit-aer[cpu]) (0.13.0)\n",
      "Requirement already satisfied: pbr>=2.0.0 in /opt/conda/lib/python3.11/site-packages (from stevedore>=3.0.0->qiskit>=1.1.0->qiskit-aer[cpu]) (7.0.0)\n",
      "Requirement already satisfied: setuptools in /opt/conda/lib/python3.11/site-packages (from pbr>=2.0.0->stevedore>=3.0.0->qiskit>=1.1.0->qiskit-aer[cpu]) (69.5.1)\n",
      "Requirement already satisfied: mpmath<1.4,>=1.1.0 in /opt/conda/lib/python3.11/site-packages (from sympy>=1.3->qiskit>=1.1.0->qiskit-aer[cpu]) (1.3.0)\n",
      "Downloading qiskit_aer-0.17.1-cp311-cp311-manylinux_2_17_x86_64.manylinux2014_x86_64.whl (12.4 MB)\n",
      "\u001b[2K   \u001b[90m━━━━━━━━━━━━━━━━━━━━━━━━━━━━━━━━━━━━━━━━\u001b[0m \u001b[32m12.4/12.4 MB\u001b[0m \u001b[31m87.2 MB/s\u001b[0m eta \u001b[36m0:00:00\u001b[0m\n",
      "\u001b[?25hInstalling collected packages: qiskit-aer\n",
      "Successfully installed qiskit-aer-0.17.1\n",
      "\n",
      "\u001b[1m[\u001b[0m\u001b[34;49mnotice\u001b[0m\u001b[1;39;49m]\u001b[0m\u001b[39;49m A new release of pip is available: \u001b[0m\u001b[31;49m25.1.1\u001b[0m\u001b[39;49m -> \u001b[0m\u001b[32;49m25.2\u001b[0m\n",
      "\u001b[1m[\u001b[0m\u001b[34;49mnotice\u001b[0m\u001b[1;39;49m]\u001b[0m\u001b[39;49m To update, run: \u001b[0m\u001b[32;49mpip install --upgrade pip\u001b[0m\n",
      "qiskit                       2.0.2\n",
      "qiskit-aer                   0.17.1\n"
     ]
    }
   ],
   "source": [
    "# Qiskit Aer environment setup (qBraid reproducibility)\n",
    "!pip uninstall -y qiskit-aer qiskit qiskit-terra\n",
    "!pip cache purge\n",
    "!pip install qiskit==2.0.2\n",
    "!pip install qiskit-aer[cpu]\n",
    "!pip list | grep qiskit"
   ]
  },
  {
   "cell_type": "markdown",
   "id": "8a87d801",
   "metadata": {},
   "source": [
    "## 1. Bell State with Measurement Sampling\n",
    "We create and simulate a Bell state using Qiskit Aer’s `qasm_simulator` to get measurement outcome probabilities."
   ]
  },
  {
   "cell_type": "code",
   "execution_count": 2,
   "id": "ef7f1c4e",
   "metadata": {},
   "outputs": [
    {
     "name": "stdout",
     "output_type": "stream",
     "text": [
      "Bell counts: {'11': 2100, '00': 1996}\n"
     ]
    }
   ],
   "source": [
    "from qiskit import QuantumCircuit, transpile\n",
    "from qiskit_aer import Aer\n",
    "\n",
    "qc = QuantumCircuit(2)\n",
    "qc.h(0)\n",
    "qc.cx(0, 1)\n",
    "qc.measure_all()\n",
    "\n",
    "backend = Aer.get_backend('qasm_simulator')\n",
    "result = backend.run(transpile(qc, backend), shots=4096).result()\n",
    "print('Bell counts:', result.get_counts())"
   ]
  },
  {
   "cell_type": "markdown",
   "id": "af72d483",
   "metadata": {},
   "source": [
    "## 2. Ideal Statevector Simulation\n",
    "Simulate the Bell state without measurements to retrieve the exact statevector."
   ]
  },
  {
   "cell_type": "code",
   "execution_count": 3,
   "id": "95f8ff84",
   "metadata": {},
   "outputs": [
    {
     "name": "stdout",
     "output_type": "stream",
     "text": [
      "Statevector: [0.70710678+0.j 0.        +0.j 0.        +0.j 0.70710678+0.j]\n",
      "Probability sum: 1.0\n"
     ]
    }
   ],
   "source": [
    "import numpy as np\n",
    "\n",
    "qc = QuantumCircuit(2)\n",
    "qc.h(0)\n",
    "qc.cx(0, 1)\n",
    "\n",
    "sv_backend = Aer.get_backend('statevector_simulator')\n",
    "sv = np.array(sv_backend.run(qc).result().get_statevector(), dtype=complex)\n",
    "print('Statevector:', sv)\n",
    "print('Probability sum:', float((np.abs(sv) ** 2).sum()))"
   ]
  },
  {
   "cell_type": "markdown",
   "id": "2fb68644",
   "metadata": {},
   "source": [
    "## 3. Noisy Bell State Simulation\n",
    "Add depolarizing noise to single- and two-qubit gates."
   ]
  },
  {
   "cell_type": "code",
   "execution_count": 4,
   "id": "c5504eb0",
   "metadata": {},
   "outputs": [
    {
     "name": "stdout",
     "output_type": "stream",
     "text": [
      "Noisy counts: {'01': 34, '10': 30, '00': 4101, '11': 4027}\n"
     ]
    }
   ],
   "source": [
    "from qiskit_aer.noise import NoiseModel, depolarizing_error\n",
    "\n",
    "noise_model = NoiseModel()\n",
    "noise_model.add_all_qubit_quantum_error(depolarizing_error(0.01, 1), ['h'])\n",
    "noise_model.add_all_qubit_quantum_error(depolarizing_error(0.02, 2), ['cx'])\n",
    "\n",
    "qc = QuantumCircuit(2)\n",
    "qc.h(0)\n",
    "qc.cx(0, 1)\n",
    "qc.measure_all()\n",
    "\n",
    "result_noisy = backend.run(transpile(qc, backend), shots=8192, noise_model=noise_model).result()\n",
    "print('Noisy counts:', result_noisy.get_counts())"
   ]
  },
  {
   "cell_type": "markdown",
   "id": "3ff096a2",
   "metadata": {},
   "source": [
    "## 4. Grover's Algorithm (2-qubit)\n",
    "Search for the marked state |11>."
   ]
  },
  {
   "cell_type": "code",
   "execution_count": 5,
   "id": "187ae5bf",
   "metadata": {},
   "outputs": [
    {
     "name": "stdout",
     "output_type": "stream",
     "text": [
      "Grover ideal counts: {'11': 4096}\n"
     ]
    }
   ],
   "source": [
    "def grover_oracle_11(n=2):\n",
    "    qc = QuantumCircuit(n)\n",
    "    qc.cz(0, 1)\n",
    "    return qc\n",
    "\n",
    "def diffuser(n=2):\n",
    "    qc = QuantumCircuit(n)\n",
    "    qc.h(range(n))\n",
    "    qc.x(range(n))\n",
    "    qc.h(n-1)\n",
    "    qc.cx(0, 1)\n",
    "    qc.h(n-1)\n",
    "    qc.x(range(n))\n",
    "    qc.h(range(n))\n",
    "    return qc\n",
    "\n",
    "grover_it = QuantumCircuit(2, 2)\n",
    "grover_it.h(range(2))\n",
    "grover_it.append(grover_oracle_11(2), range(2))\n",
    "grover_it.append(diffuser(2), range(2))\n",
    "grover_it.measure(range(2), range(2))\n",
    "\n",
    "res_ideal = backend.run(transpile(grover_it, backend), shots=4096).result()\n",
    "print('Grover ideal counts:', res_ideal.get_counts())"
   ]
  },
  {
   "cell_type": "markdown",
   "id": "96e266f3",
   "metadata": {},
   "source": [
    "## 5. Deutsch–Jozsa Algorithm (n=3)\n",
    "Detect constant vs balanced functions with one query."
   ]
  },
  {
   "cell_type": "code",
   "execution_count": 6,
   "id": "b58e30b5",
   "metadata": {},
   "outputs": [
    {
     "name": "stdout",
     "output_type": "stream",
     "text": [
      "DJ constant-0: {'000': 2048}\n"
     ]
    }
   ],
   "source": [
    "def dj_constant_oracle(n=3, flips_output=False):\n",
    "    qc = QuantumCircuit(n+1)\n",
    "    if flips_output:\n",
    "        qc.x(n)\n",
    "    return qc\n",
    "\n",
    "def dj_balanced_oracle(n=3):\n",
    "    qc = QuantumCircuit(n+1)\n",
    "    qc.cx(0, n)\n",
    "    qc.cx(1, n)\n",
    "    return qc\n",
    "\n",
    "def deutsch_jozsa_run(oracle, n=3):\n",
    "    qc = QuantumCircuit(n+1, n)\n",
    "    qc.x(n)\n",
    "    qc.h(range(n+1))\n",
    "    qc.append(oracle, range(n+1))\n",
    "    qc.h(range(n))\n",
    "    qc.measure(range(n), range(n))\n",
    "    return qc\n",
    "\n",
    "oracle_c0 = dj_constant_oracle(3, flips_output=False).to_gate()\n",
    "qc_c0 = deutsch_jozsa_run(oracle_c0, 3)\n",
    "res_c0 = backend.run(transpile(qc_c0, backend), shots=2048).result()\n",
    "print('DJ constant-0:', res_c0.get_counts())"
   ]
  },
  {
   "cell_type": "markdown",
   "id": "934a049a",
   "metadata": {},
   "source": [
    "## 6. Superconducting Qubit Noise Simulation\n",
    "Thermal relaxation and depolarizing noise model."
   ]
  },
  {
   "cell_type": "code",
   "execution_count": 7,
   "id": "be9de143",
   "metadata": {},
   "outputs": [
    {
     "name": "stdout",
     "output_type": "stream",
     "text": [
      "{'0': 519, '1': 481}\n"
     ]
    },
    {
     "data": {
      "image/png": "[encoded data removed]",
      "text/plain": [
       "<Figure size 640x480 with 1 Axes>"
      ]
     },
     "metadata": {},
     "output_type": "display_data"
    }
   ],
   "source": [
    "from qiskit_aer import AerSimulator\n",
    "from qiskit_aer.noise import thermal_relaxation_error\n",
    "import matplotlib.pyplot as plt\n",
    "\n",
    "T1 = 100e-6\n",
    "T2 = 80e-6\n",
    "gate_time = 50e-9\n",
    "depol_prob = 0.02\n",
    "\n",
    "noise_model = NoiseModel()\n",
    "thermal_error = thermal_relaxation_error(T1, T2, gate_time)\n",
    "depol_error = depolarizing_error(depol_prob, 1)\n",
    "combined_error = thermal_error.compose(depol_error)\n",
    "noise_model.add_all_qubit_quantum_error(combined_error, ['x', 'h'])\n",
    "\n",
    "qc = QuantumCircuit(1, 1)\n",
    "qc.h(0)\n",
    "qc.measure(0, 0)\n",
    "\n",
    "sim = AerSimulator(noise_model=noise_model)\n",
    "res = sim.run(transpile(qc, sim), shots=1000).result().get_counts()\n",
    "print(res)\n",
    "plt.bar(res.keys(), res.values())\n",
    "plt.title('Superconducting Qubit Noise Simulation')\n",
    "plt.show()"
   ]
  },
  {
   "cell_type": "markdown",
   "id": "9773c48f",
   "metadata": {},
   "source": [
    "# 1. Environment check & imports"
   ]
  },
  {
   "cell_type": "markdown",
   "id": "09a7a2e2",
   "metadata": {},
   "source": [
    "# 2. Bell state with measurement sampling"
   ]
  },
  {
   "cell_type": "markdown",
   "id": "b05ca105",
   "metadata": {},
   "source": [
    "# 3. Ideal statevector simulation"
   ]
  },
  {
   "cell_type": "markdown",
   "id": "9cf0cc2c",
   "metadata": {},
   "source": [
    "# 4. Noisy Bell (depolarizing)"
   ]
  },
  {
   "cell_type": "markdown",
   "id": "39acb86f",
   "metadata": {},
   "source": [
    "# 5. Grover's algorithm (2-qubit)"
   ]
  },
  {
   "cell_type": "markdown",
   "id": "9ff8482a",
   "metadata": {},
   "source": [
    "# 6. Deutsch–Jozsa algorithm (n=3)"
   ]
  },
  {
   "cell_type": "markdown",
   "id": "63e2d5b2",
   "metadata": {},
   "source": [
    "# 7. Superconducting qubit noise (T1, T2, depolarizing)"
   ]
  },
  {
   "cell_type": "markdown",
   "id": "06f812a8",
   "metadata": {},
   "source": [
    "# 8. Summary & conclusions"
   ]
  }
 ],
 "metadata": {
  "kernelspec": {
   "display_name": "Python 3 [qiskit]",
   "language": "python",
   "name": "python3_qiskit_qy0wz2"
  },
  "language_info": {
   "codemirror_mode": {
    "name": "ipython",
    "version": 3
   },
   "file_extension": ".py",
   "mimetype": "text/x-python",
   "name": "python",
   "nbconvert_exporter": "python",
   "pygments_lexer": "ipython3",
   "version": "3.9.23"
  }
 },
 "nbformat": 4,
 "nbformat_minor": 5
}
